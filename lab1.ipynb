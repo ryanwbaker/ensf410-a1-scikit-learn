{
 "cells": [
  {
   "cell_type": "markdown",
   "source": [
    "# Lab1 - Scikit-learn\r\n",
    "Author: RYAN BAKER\r\n",
    "\r\n",
    "## 1. Overview\r\n",
    "\r\n",
    "At the end, you are asked to answer the following questions in **Section 5.1 Questions** in the notebook:\r\n",
    "\r\n",
    "1. For each task (classification and regression), which model performs best on the validation data using all features?\r\n",
    "2. For each task (classification and regression), which model performs best on the validation data using two principal components?\r\n",
    "3. In each task (classification and regression), for each model, how do full feature and two principal component model scores compare on the validation data?\r\n",
    "4. Do any of the models underfit or overfit? Provide examples."
   ],
   "metadata": {}
  },
  {
   "cell_type": "code",
   "execution_count": 199,
   "source": [
    "import numpy as np\r\n",
    "import pandas as pd\r\n",
    "import matplotlib.pyplot as plt\r\n",
    "import seaborn as sns\r\n",
    "%matplotlib inline"
   ],
   "outputs": [],
   "metadata": {}
  },
  {
   "cell_type": "markdown",
   "source": [
    "## 2. Function definitions"
   ],
   "metadata": {}
  },
  {
   "cell_type": "code",
   "execution_count": 200,
   "source": [
    "from sklearn.metrics import accuracy_score\r\n",
    "from sklearn.model_selection import train_test_split\r\n",
    "\r\n",
    "def get_classifier_accuracy(model, X, y):\r\n",
    "    '''Calculate train and validation accuracy of classifier (model)\r\n",
    "        \r\n",
    "        Splits feature matrix X and target vector y \r\n",
    "        with sklearn train_test_split() and random_state=956.\r\n",
    "        \r\n",
    "        model (sklearn classifier): Classifier to train and evaluate\r\n",
    "        X (numpy.array or pandas.DataFrame): Feature matrix\r\n",
    "        y (numpy.array or pandas.Series): Target vector\r\n",
    "        \r\n",
    "        returns: training accuracy, validation accuracy\r\n",
    "    \r\n",
    "    '''\r\n",
    "    \r\n",
    "    #TODO: IMPLEMENT FUNCTION BODY\r\n",
    "    X_train, X_test, y_train, y_test = train_test_split(X, y, random_state=956)\r\n",
    "    model.fit(X_train, y_train)\r\n",
    "    y_pred = model.predict(X_test)\r\n",
    "    return (model.score(X_train, y_train), accuracy_score(y_test, y_pred))"
   ],
   "outputs": [],
   "metadata": {}
  },
  {
   "cell_type": "code",
   "execution_count": 201,
   "source": [
    "from sklearn.metrics import mean_squared_error\r\n",
    "from sklearn.model_selection import train_test_split\r\n",
    "\r\n",
    "def get_regressor_mse(model, X, y):\r\n",
    "    '''Calculate train and validation mean-squared error (mse) of regressor (model)\r\n",
    "        \r\n",
    "        Splits feature matrix X and target vector y \r\n",
    "        with sklearn train_test_split() and random_state=956.\r\n",
    "        \r\n",
    "        model (sklearn regressor): Regressor to train and evaluate\r\n",
    "        X (numpy.array or pandas.DataFrame): Feature matrix\r\n",
    "        y (numpy.array or pandas.Series): Target vector\r\n",
    "        \r\n",
    "        returns: training mse, validation mse\r\n",
    "    \r\n",
    "    '''\r\n",
    "    X_train, X_test, y_train, y_test = train_test_split(X, y, random_state=956)\r\n",
    "    model.fit(X_train,y_train)\r\n",
    "    y_pred = model.predict(X_test)\r\n",
    "    return (model.score(X, y), mean_squared_error(y_test, y_pred))"
   ],
   "outputs": [],
   "metadata": {}
  },
  {
   "cell_type": "code",
   "execution_count": 202,
   "source": [
    "from sklearn.decomposition import PCA\r\n",
    "\r\n",
    "def get_n_principal_components(X, n=2):\r\n",
    "    '''Extracts n principal componets from feature matrix X using sklearn PCA.\r\n",
    "        X (pandas.DataFrame): A feature matrix\r\n",
    "        n (int): number of principal components\r\n",
    "        \r\n",
    "        returns: feature matrix with n columns as numpy.array\r\n",
    "    '''\r\n",
    "    \r\n",
    "    model = PCA(n_components = n)\r\n",
    "    model.fit(X)\r\n",
    "    X_n = model.transform(X)\r\n",
    "    return X_n"
   ],
   "outputs": [],
   "metadata": {}
  },
  {
   "cell_type": "markdown",
   "source": [
    "## 3. Classification\r\n",
    "\r\n",
    "Using yellowbrick spam - classification  \r\n",
    "https://www.scikit-yb.org/en/latest/api/datasets/spam.html\r\n",
    "\r\n",
    "The goal is to compare `LogisticRegression(max_iter=2000)` and `RandomForestClassifier(random_state=88)` classification performance on a validation set with full features and first two principal components."
   ],
   "metadata": {}
  },
  {
   "cell_type": "markdown",
   "source": [
    "### 3.1 Load data\n",
    "\n",
    "Load the spam data set into feature matrix `X` and target vector `y`.\n",
    "\n",
    "Call `get_n_principal_components()` to obtain feature matrix `X_2D` containing the first two principal components.\n",
    "\n",
    "Print dimensions and type of `X`, `y`, and `X_2D`.\n"
   ],
   "metadata": {}
  },
  {
   "cell_type": "code",
   "execution_count": 203,
   "source": [
    "from yellowbrick.datasets import load_spam\r\n",
    "(X, y) = load_spam()\r\n",
    "X_2D = get_n_principal_components(X, 2)\r\n",
    "\r\n"
   ],
   "outputs": [],
   "metadata": {}
  },
  {
   "cell_type": "markdown",
   "source": [
    "### 3.2 Train and evaluate models\n",
    "\n",
    "1. Import `LogisticRegression` and `RandomForestClassifier` from sklearn\n",
    "2. Instantiate models `LogisticRegression(max_iter=2000)` and `RandomForestClassifier(random_state=88)` in a list.\n",
    "3. create a for loop iterating the models list:\n",
    "    - Call `get_classifier_accuracy()` using all features, i.e. `X`.\n",
    "    - Call `get_classifier_accuracy()` using PCA features, i.e. `X_2D`.\n",
    "    - Print training and validation accuracy for both. Limit output to **3 decimal places**."
   ],
   "metadata": {}
  },
  {
   "cell_type": "code",
   "execution_count": 204,
   "source": [
    "from sklearn.linear_model import LogisticRegression\r\n",
    "from sklearn.ensemble import RandomForestClassifier\r\n",
    "models = [LogisticRegression(max_iter=2000),\r\n",
    "          RandomForestClassifier(random_state=88)\r\n",
    "         ]\r\n",
    "for i, model in enumerate(models):\r\n",
    "    for feature in (\"All Features\", \"PCA\"):\r\n",
    "        scores = get_classifier_accuracy(model, X_2D if feature == \"PCA\" else X, y)\r\n",
    "        print(f'{\"LogisticRegression\" if i==0 else \"RandomForestClassifier\"}, {feature}:')\r\n",
    "        print(f'Training Accuracy: {scores[0]:.3f}, Validation Accuracy: {scores[1]:.3f}')\r\n",
    "        print()\r\n",
    "\r\n"
   ],
   "outputs": [
    {
     "output_type": "stream",
     "name": "stdout",
     "text": [
      "LogisticRegression, All Features:\n",
      "Training Accuracy: 0.934, Validation Accuracy: 0.917\n",
      "\n",
      "LogisticRegression, PCA:\n",
      "Training Accuracy: 0.729, Validation Accuracy: 0.725\n",
      "\n",
      "RandomForestClassifier, All Features:\n",
      "Training Accuracy: 0.999, Validation Accuracy: 0.944\n",
      "\n",
      "RandomForestClassifier, PCA:\n",
      "Training Accuracy: 0.999, Validation Accuracy: 0.771\n",
      "\n"
     ]
    }
   ],
   "metadata": {}
  },
  {
   "cell_type": "markdown",
   "source": [
    "### 3.3 Plot PCA feautures\n",
    "Use a Seaborn `scatterplot` to visulaize the two PCA components using the lables in `y` as `hue`.\n",
    "\n",
    "Label x- and y-axis and add a title."
   ],
   "metadata": {}
  },
  {
   "cell_type": "code",
   "execution_count": 205,
   "source": [
    "spam = pd.DataFrame()\r\n",
    "spam['PCA0'] = X_2D[:,0]\r\n",
    "spam['PCA1'] = X_2D[:,1]\r\n",
    "spam['y'] = y\r\n",
    "sns.scatterplot(data=spam, x='PCA0', y='PCA1', hue='y').set(title='PCA Features (n=2) of Spam Dataset');\r\n",
    "\r\n"
   ],
   "outputs": [
    {
     "output_type": "display_data",
     "data": {
      "image/png": "[encoded data removed]",
      "text/plain": [
       "<Figure size 432x288 with 1 Axes>"
      ]
     },
     "metadata": {
      "needs_background": "light"
     }
    }
   ],
   "metadata": {}
  },
  {
   "cell_type": "markdown",
   "source": [
    "## 4. Regression\r\n",
    "\r\n",
    "Using yellowbrick energy - regression  \r\n",
    "https://www.scikit-yb.org/en/latest/api/datasets/energy.html\r\n",
    "\r\n",
    "The goal is to compare `LinearRegression()` and `RandomForestRegressor(random_state=88)` regression performance on a validation set with full features and first two principal components."
   ],
   "metadata": {}
  },
  {
   "cell_type": "markdown",
   "source": [
    "### 4.1 Load data\n",
    "\n",
    "Load the energy data set into feature matrix `X` and target vector `y`.\n",
    "\n",
    "Call `get_n_principal_components()` to obtain feature matrix `X_2D` containing the first two principal components.\n",
    "\n",
    "Print dimensions and type of `X`, `y`, and `X_2D`."
   ],
   "metadata": {}
  },
  {
   "cell_type": "code",
   "execution_count": 206,
   "source": [
    "from yellowbrick.datasets import load_energy\r\n",
    "X, y = load_energy()\r\n",
    "X_2D = get_n_principal_components(X, 2)\r\n",
    "print(f'X dimensions: {X.shape}')\r\n",
    "print(f'y dimensions: {y.shape}')\r\n",
    "print(f'X_2D dimensions: {X_2D.shape}')\r\n",
    "print(f'X type: {type(X)}')\r\n",
    "print(f'y type: {type(y)}')\r\n",
    "print(f'X_2D type: {type(X_2D)}')\r\n",
    "\r\n"
   ],
   "outputs": [
    {
     "output_type": "stream",
     "name": "stdout",
     "text": [
      "X dimensions: (768, 8)\n",
      "y dimensions: (768,)\n",
      "X_2D dimensions: (768, 2)\n",
      "X type: <class 'pandas.core.frame.DataFrame'>\n",
      "y type: <class 'pandas.core.series.Series'>\n",
      "X_2D type: <class 'numpy.ndarray'>\n"
     ]
    }
   ],
   "metadata": {}
  },
  {
   "cell_type": "markdown",
   "source": [
    "### 4.2 Train and evaluate models\n",
    "\n",
    "1. Import `LinearRegression` and `RandomForestRegressor` from sklearn\n",
    "2. Instantiate models `LinearRegression()` and `RandomForestRegressor(random_state=88)` in a list.\n",
    "3. create a for loop iterating the models list:\n",
    "    - Call `get_regressor_mse()` using all features, i.e. `X`.\n",
    "    - Call `get_regressor_mse()` using PCA features, i.e. `X_2D`.\n",
    "    - Print training and validation accuracy for both. Limit output to **1 decimal place**."
   ],
   "metadata": {}
  },
  {
   "cell_type": "code",
   "execution_count": 207,
   "source": [
    "from sklearn.linear_model import LinearRegression\r\n",
    "from sklearn.ensemble import RandomForestRegressor\r\n",
    "regressionList = [LinearRegression(), RandomForestRegressor(random_state=88)]\r\n",
    "for model in regressionList:\r\n",
    "    for feature in (\"All Features\", \"PCA Features\"):\r\n",
    "        print(f'{model}, {feature}:')\r\n",
    "        scores = get_regressor_mse(model, X if feature == \"All Features\" else X_2D, y)\r\n",
    "        print(f'training score: {scores[0]:.1f}')\r\n",
    "        print(f'validation mse: {scores[1]:.1f}')\r\n",
    "        print()"
   ],
   "outputs": [
    {
     "output_type": "stream",
     "name": "stdout",
     "text": [
      "LinearRegression(), All Features:\n",
      "training score: 0.9\n",
      "validation mse: 10.3\n",
      "\n",
      "LinearRegression(), PCA Features:\n",
      "training score: 0.8\n",
      "validation mse: 19.6\n",
      "\n",
      "RandomForestRegressor(random_state=88), All Features:\n",
      "training score: 1.0\n",
      "validation mse: 0.2\n",
      "\n",
      "RandomForestRegressor(random_state=88), PCA Features:\n",
      "training score: 0.9\n",
      "validation mse: 8.6\n",
      "\n"
     ]
    }
   ],
   "metadata": {}
  },
  {
   "cell_type": "markdown",
   "source": [
    "### 4.3 Plot PCA feautures\n",
    "Use a Seaborn `scatterplot` to visulaize the two PCA components using the values in `y` as `hue` and `size`.\n",
    "\n",
    "Label x- and y-axis and add a title."
   ],
   "metadata": {}
  },
  {
   "cell_type": "code",
   "execution_count": 208,
   "source": [
    "energy = pd.DataFrame()\r\n",
    "energy['PCA0'] = X_2D[:,0]\r\n",
    "energy['PCA1'] = X_2D[:,1]\r\n",
    "energy['y'] = y\r\n",
    "sns.scatterplot(data=energy, x='PCA0', y='PCA1', hue='y', size='y').set(title='PCA Features (n=2) of Energy Dataset');\r\n",
    "\r\n"
   ],
   "outputs": [
    {
     "output_type": "display_data",
     "data": {
      "image/png": "[encoded data removed]",
      "text/plain": [
       "<Figure size 432x288 with 1 Axes>"
      ]
     },
     "metadata": {
      "needs_background": "light"
     }
    }
   ],
   "metadata": {}
  },
  {
   "cell_type": "markdown",
   "source": [
    "## 5. Observations/Interpretation"
   ],
   "metadata": {}
  },
  {
   "cell_type": "markdown",
   "source": [
    "### 5.1 Questions\r\n",
    "1. For each task (classification and regression), which model performs best on the validation data using all features?\r\n",
    "\r\n",
    "**Classification:**  \r\n",
    "*When the two models were examined using all features, the random forest classifier model (validation accuracy = 0.944) scored better compared to the logistic regression model (validation accuracy = 0.917).*\r\n",
    "\r\n",
    "**Regression:**  \r\n",
    "*Linear regression and random forest regression were compared; random forest regression had only a mean squared error value (MSE) of 0.2, while linear regression had a MSE of 10.3. In this case, the larger value is representative of the error, so the random forest model scored better.*\r\n",
    "\r\n",
    "\r\n",
    "2. For each task (classification and regression), which model performs best on the validation data using two principal components?\r\n",
    "\r\n",
    "**Classification:**  \r\n",
    "*Using only two principal components, the logistic regression model performed slightly better. The logistic regression validation score was found to be 0.725, while the random forest validation score was found to be 0.771.*\r\n",
    "\r\n",
    "**Regression:**  \r\n",
    "*The random forest model performed better again with only two principal components, with a MSE of 8.6, while linear regression had a MSE of 19.6.*\r\n",
    "\r\n",
    "3. In each task (classification and regression), for each model, how do full feature and two principal component model scores compare on the validation data?\r\n",
    "\r\n",
    "**Classification:**  \r\n",
    "*Using full features resulted in a better validation score for all models (0.917 vs. 0.725 for logistic regression, 0.944 vs. 0.771 for random forest classification, 10.3 MSE vs. 19.6 MSE for linear regression, and 0.2 MSE vs. 8.6 MSE for random forest regression).*\r\n",
    "\r\n",
    "**Regression:**  \r\n",
    "*Using full features for both models resulted in lower MSE scores when compared with two principal components (10.3 vs. 19.6 for linear regression, and 0.2 vs. 8.6 for random forest.*\r\n",
    "\r\n",
    "4. Do any of the models underfit or overfit? Provide examples.\r\n",
    "**Underfitting**   \r\n",
    "*Underfitting is usually identified by a low training score. The lowest training scores were logistic regression, PCA features (training score 0.729) and linear regression, PCA features (training score 0.8). To find if these models were underfitting the data, complexity would have to be increased, and the difference in validation scores compared. If the validation scores increased with increased complexity, then the original models were underfitting the data.*\r\n",
    "\r\n",
    "**Overfitting**   \r\n",
    "*Random forest classifier, all features (training score 0.999) random forest classifier, PCA features (training score 0.999), and random forest regressor (training score 1.0) are all likely overfitting, because they all have very high training scores (nearly or exactly perfect). This means that the algorithm is likely not identifying the true 'trend' of the data, and is even accounting for outlier data points. It's also possible that linear regression with all features (training score 0.9), random forest regression with all features (training score 0.9) and logistic regression with all features (training score 0.934) could be overfitting as well; these models had higher (but not perfect) training scores. To truly find if these models were overfitting the data, the complexity would have to be reduced and the differences in validation scores compared.*\r\n",
    "\r\n",
    "### 5.2 Conclusion\r\n",
    "Conclude on any one pattern you see emerge in your answers to questions above. Include the data to justify your conclusion.\r\n",
    "\r\n",
    "*The following conclusions were made about this lab:*\r\n",
    "*Better accuracy can likely be obtained by using all features instead of a few principal components. This was true for all models (0.917 vs. 0.725 for logistic regression, 0.944 vs. 0.771 for random forest classification, 10.3 MSE vs. 19.6 MSE for linear regression, and 0.2 MSE vs. 8.6 MSE for random forest regression).*\r\n",
    "\r\n",
    "*The random forest regression algorithm appeared to perform better in both full featured and PCA featured models in comparison with the linear regression model. This may be possibly due to the fact that the energy data set does not have a linear relationship, and the tree-based random forest algorithm was able to better identify the trend of the data.*\r\n",
    "\r\n",
    "*As a final conclusion, there isn't a single 'perfect' algorithm for every situation. Though only two models for both classification and regression were compared, it's clear that some models fit certain sets of data better.*\r\n"
   ],
   "metadata": {}
  },
  {
   "cell_type": "markdown",
   "source": [
    "## 6. Reflection\r\n",
    "Include a sentence or two about:\r\n",
    "- what you liked or disliked,\r\n",
    "- found interesting, confusing, challangeing, motivating\r\n",
    "while working on this assignment.\r\n",
    "\r\n",
    "\r\n",
    "*Things I liked about this lab:*\r\n",
    "*I enjoyed getting my hands dirty with scikit-learn. This didn't feel like a regular 'programming' lab, but instead was much more detailed about the data (which is probably going to be true for all AI and ML courses).*\r\n",
    "\r\n",
    "*Things I disliked about the lab:*\r\n",
    "*I struggled a bit with getting the seaborn plots to work. After some extensive googling, I found that adding `%matplotlib inline` is what enabled the plots to render. This may be also because I was using VScode instead of Jupyter Lab. Should future problems persist, I will begin to use Jupyter Lab.*"
   ],
   "metadata": {}
  },
  {
   "cell_type": "code",
   "execution_count": null,
   "source": [],
   "outputs": [],
   "metadata": {}
  }
 ],
 "metadata": {
  "kernelspec": {
   "name": "python3",
   "display_name": "Python 3.8.8 64-bit ('ensf-ml': conda)"
  },
  "language_info": {
   "codemirror_mode": {
    "name": "ipython",
    "version": 3
   },
   "file_extension": ".py",
   "mimetype": "text/x-python",
   "name": "python",
   "nbconvert_exporter": "python",
   "pygments_lexer": "ipython3",
   "version": "3.8.8"
  },
  "interpreter": {
   "hash": "f6f02e9f85b690ba3605e25e2207de0a0cdb14a188c0224e174543eb34a40aa5"
  }
 },
 "nbformat": 4,
 "nbformat_minor": 4
}